{
 "cells": [
  {
   "cell_type": "markdown",
   "metadata": {},
   "source": [
    "# Measurement Error Mitigation"
   ]
  },
  {
   "cell_type": "markdown",
   "metadata": {},
   "source": [
    "## Opis metody"
   ]
  },
  {
   "cell_type": "markdown",
   "metadata": {},
   "source": [
    "Błędy w obecnych komputerach kwantowych są złożonym problemem i istnieje kilka ich przyczyn. Jedną z nich jest błąd przy końcowym pomiarze stanu układu kwantowego, który to pomiar generuje szum. W celu ograniczenia tego zjawiska możemy wykorzystać metodę zmniejszania błędu pomiarowego:\n",
    "\n",
    "1. Przygotowujemy 2^n kalibracyjnych układów kwantowych (gdzie n jest równe ilości qubitów w eksperymencie, którego wyniki chcemy poprawić), każdy w innym n-qubitowym stanie bazowym. Układ kalibracyjny składa się w zasadzie tylko z bramek ustalających stan wejściowy qubitów i bramek pomiarowych\n",
    "2. Wykonujemy układy z punktu 1. na komputerze kwantowym w celu zmierzenia błędów pomiarowych (mała wielkość układów pozwala ograniczyć dekoherencję)\n",
    "3. Wypełniamy macierz M rzeczywistymi wynikami pomiarów dla każdego stanu bazowego (kolumny są wektorami pomiarów)\n",
    "4. Obliczamy macierz odwrotną do macierzy M w celu wykorzystania jej do poprawy błędów \n",
    "5. Mnożymy wyniki eksperymentu, który chcemy poprawić, przez macierz odwrotną do macierzy M"
   ]
  },
  {
   "cell_type": "markdown",
   "metadata": {},
   "source": [
    "## Zastosowanie metody do książkowego rozwiązania algorytmu Grovera"
   ]
  },
  {
   "cell_type": "code",
   "execution_count": 1,
   "metadata": {},
   "outputs": [],
   "source": [
    "%matplotlib inline\n",
    "from qiskit import QuantumCircuit, execute, Aer, IBMQ\n",
    "from qiskit.compiler import transpile, assemble\n",
    "from qiskit.tools.jupyter import *\n",
    "from qiskit.visualization import *\n",
    "from qiskit.providers.ibmq import least_busy\n",
    "\n",
    "provider = IBMQ.load_account()"
   ]
  },
  {
   "cell_type": "code",
   "execution_count": 2,
   "metadata": {},
   "outputs": [],
   "source": [
    "def sandwich(circuit, qbits, sandwiching, inside):\n",
    "    for i in qbits:\n",
    "        sandwiching(circuit, i)\n",
    "    inside(circuit)\n",
    "    for i in qbits:\n",
    "        sandwiching(circuit, i)"
   ]
  },
  {
   "cell_type": "code",
   "execution_count": 3,
   "metadata": {},
   "outputs": [
    {
     "data": {
      "image/png": "[encoded data removed]",
      "text/plain": [
       "<Figure size 900.592x264.88 with 1 Axes>"
      ]
     },
     "execution_count": 3,
     "metadata": {},
     "output_type": "execute_result"
    }
   ],
   "source": [
    "circ = QuantumCircuit(3, 2)\n",
    "circ.x(2)\n",
    "circ.h(0)\n",
    "circ.h(1)\n",
    "circ.h(2)\n",
    "sandwich(circ, [0], lambda c, i: c.x(i), lambda c: c.toffoli(0,1,2))\n",
    "circ.h(0)\n",
    "circ.h(1)\n",
    "circ.x(0)\n",
    "circ.x(1)\n",
    "circ.h(1)\n",
    "circ.cx(0,1)\n",
    "circ.h(1)\n",
    "circ.x(0)\n",
    "circ.x(1)\n",
    "circ.h(0)\n",
    "circ.h(1)\n",
    "circ.measure([0,1], [1,0])\n",
    "circ.draw()"
   ]
  },
  {
   "cell_type": "code",
   "execution_count": 4,
   "metadata": {},
   "outputs": [
    {
     "name": "stdout",
     "output_type": "stream",
     "text": [
      "Experiment {'00': 120, '01': 729, '11': 121, '10': 54}\n"
     ]
    },
    {
     "data": {
      "image/png": "[encoded data removed]",
      "text/plain": [
       "<Figure size 504x360 with 1 Axes>"
      ]
     },
     "execution_count": 4,
     "metadata": {},
     "output_type": "execute_result"
    }
   ],
   "source": [
    "provider = IBMQ.get_provider(group='open')\n",
    "backend = least_busy(provider.backends(filters=lambda x: x.configuration().n_qubits >= 3 and \n",
    "                                   not x.configuration().simulator and x.status().operational==True))\n",
    "\n",
    "job_exp = execute(circ, backend=backend, shots=1024)\n",
    "result_exp = job_exp.result()\n",
    "counts_exp = result_exp.get_counts(circ)\n",
    "print(\"Experiment\", counts_exp)\n",
    "plot_histogram([counts_exp], legend=['Experiment'])"
   ]
  },
  {
   "cell_type": "markdown",
   "metadata": {},
   "source": [
    "Jak widzimy wyniki obarczone są błędem. W układzie idealnym stan `|01>` miałby prawdopodobieństwo wystąpienia równe 1"
   ]
  },
  {
   "cell_type": "code",
   "execution_count": 5,
   "metadata": {},
   "outputs": [],
   "source": [
    "from qiskit.ignis.mitigation.measurement import (complete_meas_cal, CompleteMeasFitter)"
   ]
  },
  {
   "cell_type": "markdown",
   "metadata": {},
   "source": [
    "### Generowanie układów kalibracyjnych dla rejestru 2-qubitowego (pomiar 3 qubitu z rejestru nie jest potrzebny, nie jest więc przeprowadzany):"
   ]
  },
  {
   "cell_type": "code",
   "execution_count": 6,
   "metadata": {},
   "outputs": [
    {
     "name": "stdout",
     "output_type": "stream",
     "text": [
      "Circuit mcalcal_00\n",
      "       ░ ┌─┐   \n",
      " q_0: ─░─┤M├───\n",
      "       ░ └╥┘┌─┐\n",
      " q_1: ─░──╫─┤M├\n",
      "       ░  ║ └╥┘\n",
      " q_2: ─░──╫──╫─\n",
      "       ░  ║  ║ \n",
      "c0_0: ════╩══╬═\n",
      "             ║ \n",
      "c0_1: ═══════╩═\n",
      "               \n",
      "Circuit mcalcal_01\n",
      "      ┌───┐ ░ ┌─┐   \n",
      " q_0: ┤ X ├─░─┤M├───\n",
      "      └───┘ ░ └╥┘┌─┐\n",
      " q_1: ──────░──╫─┤M├\n",
      "            ░  ║ └╥┘\n",
      " q_2: ──────░──╫──╫─\n",
      "            ░  ║  ║ \n",
      "c0_0: ═════════╩══╬═\n",
      "                  ║ \n",
      "c0_1: ════════════╩═\n",
      "                    \n",
      "Circuit mcalcal_10\n",
      "            ░ ┌─┐   \n",
      " q_0: ──────░─┤M├───\n",
      "      ┌───┐ ░ └╥┘┌─┐\n",
      " q_1: ┤ X ├─░──╫─┤M├\n",
      "      └───┘ ░  ║ └╥┘\n",
      " q_2: ──────░──╫──╫─\n",
      "            ░  ║  ║ \n",
      "c0_0: ═════════╩══╬═\n",
      "                  ║ \n",
      "c0_1: ════════════╩═\n",
      "                    \n",
      "Circuit mcalcal_11\n",
      "      ┌───┐ ░ ┌─┐   \n",
      " q_0: ┤ X ├─░─┤M├───\n",
      "      ├───┤ ░ └╥┘┌─┐\n",
      " q_1: ┤ X ├─░──╫─┤M├\n",
      "      └───┘ ░  ║ └╥┘\n",
      " q_2: ──────░──╫──╫─\n",
      "            ░  ║  ║ \n",
      "c0_0: ═════════╩══╬═\n",
      "                  ║ \n",
      "c0_1: ════════════╩═\n",
      "                    \n"
     ]
    }
   ],
   "source": [
    "meas_calibs, state_labels = complete_meas_cal(qubit_list = [0, 1], qr=circ.qregs[0], circlabel='mcal')\n",
    "for circuit in meas_calibs:\n",
    "    print('Circuit', circuit.name)\n",
    "    print(circuit)"
   ]
  },
  {
   "cell_type": "markdown",
   "metadata": {},
   "source": [
    "### Wykonanie układów kalibracyjnych na urządzeniu"
   ]
  },
  {
   "cell_type": "code",
   "execution_count": 7,
   "metadata": {},
   "outputs": [],
   "source": [
    "job = execute(meas_calibs, backend=backend, shots=1024, optimization_level=0)\n",
    "cal_results = job.result()"
   ]
  },
  {
   "cell_type": "markdown",
   "metadata": {},
   "source": [
    "### Obliczenie macierzy M i macierzy do niej odwrotnej"
   ]
  },
  {
   "cell_type": "code",
   "execution_count": 8,
   "metadata": {},
   "outputs": [
    {
     "name": "stdout",
     "output_type": "stream",
     "text": [
      "[[0.98046875 0.0625     0.04785156 0.0078125 ]\n",
      " [0.00585938 0.92089844 0.         0.05175781]\n",
      " [0.01367188 0.00195312 0.94726562 0.05371094]\n",
      " [0.         0.01464844 0.00488281 0.88671875]]\n"
     ]
    }
   ],
   "source": [
    "meas_fitter = CompleteMeasFitter(cal_results, state_labels, circlabel='mcal')\n",
    "print(meas_fitter.cal_matrix)"
   ]
  },
  {
   "cell_type": "markdown",
   "metadata": {},
   "source": [
    "### Macierz korelacji pomiędzy stanami przygotowanymi a zmierzonymi"
   ]
  },
  {
   "cell_type": "code",
   "execution_count": 9,
   "metadata": {},
   "outputs": [
    {
     "data": {
      "image/png": "[encoded data removed]",
      "text/plain": [
       "<Figure size 432x288 with 2 Axes>"
      ]
     },
     "metadata": {
      "needs_background": "light"
     },
     "output_type": "display_data"
    }
   ],
   "source": [
    "meas_fitter.plot_calibration()"
   ]
  },
  {
   "cell_type": "markdown",
   "metadata": {},
   "source": [
    "### Wykorzystanie macierzy odwrotnej do poprawienia wyników eksperymentu"
   ]
  },
  {
   "cell_type": "code",
   "execution_count": 10,
   "metadata": {},
   "outputs": [],
   "source": [
    "meas_filter = meas_fitter.filter\n",
    "mitigated_result = meas_filter.apply(result_exp)"
   ]
  },
  {
   "cell_type": "code",
   "execution_count": 13,
   "metadata": {},
   "outputs": [
    {
     "data": {
      "image/png": "[encoded data removed]",
      "text/plain": [
       "<Figure size 504x360 with 1 Axes>"
      ]
     },
     "execution_count": 13,
     "metadata": {},
     "output_type": "execute_result"
    }
   ],
   "source": [
    "device_counts = result_exp.get_counts(circ)\n",
    "mitigated_counts = mitigated_result.get_counts(circ)\n",
    "plot_histogram([device_counts, mitigated_counts], legend=[\"Regular\", \"Mitigated\"])"
   ]
  },
  {
   "cell_type": "markdown",
   "metadata": {},
   "source": [
    "Wyniki eksperymentu poprawiły się nieznacznie. W przypadku tej implementacji algorytmu Grovera błędy spowodowane są najprawdopodobniej dużą liczbą bramek a nie samym pomiarem, dlatego poprawa blędów pomiarowych nie daje nam zdecydowanie lepszych wyników. Widać jednak pewną poprawę (na przykład prawdopodobieństwo otrzymania stanu `|00>` zmniejszyło się prawie o połowę, jednak prawdopodobieństwo otrzymania stanu `|11>` jest nawet nieznacznie większe. Prawdopodobieństwo otrzymania stanu oczekiwanego `|01>` również zwiększyło się o ok. 7% "
   ]
  }
 ],
 "metadata": {
  "kernelspec": {
   "display_name": "Python 3",
   "language": "python",
   "name": "python3"
  },
  "language_info": {
   "codemirror_mode": {
    "name": "ipython",
    "version": 3
   },
   "file_extension": ".py",
   "mimetype": "text/x-python",
   "name": "python",
   "nbconvert_exporter": "python",
   "pygments_lexer": "ipython3",
   "version": "3.7.7"
  }
 },
 "nbformat": 4,
 "nbformat_minor": 4
}
